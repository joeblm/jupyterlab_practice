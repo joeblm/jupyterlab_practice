{
 "cells": [
  {
   "cell_type": "markdown",
   "id": "1b243a73-343d-4217-bad5-ced95d8aba82",
   "metadata": {},
   "source": [
    "# Maxime Lavoie\n",
    "Notebook for assignment 7"
   ]
  },
  {
   "cell_type": "code",
   "execution_count": 1,
   "id": "dc7422d2-093e-441e-b93a-9918890c20c6",
   "metadata": {},
   "outputs": [
    {
     "name": "stdout",
     "output_type": "stream",
     "text": [
      "5.0\n"
     ]
    }
   ],
   "source": [
    "def compute_mean(list_to_compute):\n",
    "    return sum(list_to_compute) / len(list_to_compute)\n",
    "\n",
    "print(compute_mean([2, 4, 6, 8]))"
   ]
  },
  {
   "cell_type": "markdown",
   "id": "db757646-9488-4bb5-a70d-e024a185150b",
   "metadata": {},
   "source": [
    "Sums the values in a list and divides it by the total number of values in the list\n",
    "\n",
    "$$\n",
    "\\overline{x} = x_1 + x_2 + ... + x_n = \\frac{1}{n} \\left( \\displaystyle\\sum_{i=1}^n x_i \\right)\n",
    "$$"
   ]
  }
 ],
 "metadata": {
  "kernelspec": {
   "display_name": "Python [conda env:base] *",
   "language": "python",
   "name": "conda-base-py"
  },
  "language_info": {
   "codemirror_mode": {
    "name": "ipython",
    "version": 3
   },
   "file_extension": ".py",
   "mimetype": "text/x-python",
   "name": "python",
   "nbconvert_exporter": "python",
   "pygments_lexer": "ipython3",
   "version": "3.12.3"
  }
 },
 "nbformat": 4,
 "nbformat_minor": 5
}
